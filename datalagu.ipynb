{
  "nbformat": 4,
  "nbformat_minor": 0,
  "metadata": {
    "colab": {
      "name": "datalagu.ipynb",
      "provenance": [],
      "include_colab_link": true
    },
    "kernelspec": {
      "name": "python3",
      "display_name": "Python 3"
    }
  },
  "cells": [
    {
      "cell_type": "markdown",
      "metadata": {
        "id": "view-in-github",
        "colab_type": "text"
      },
      "source": [
        "<a href=\"https://colab.research.google.com/github/dimasarz/analisalirik/blob/master/datalagu.ipynb\" target=\"_parent\"><img src=\"https://colab.research.google.com/assets/colab-badge.svg\" alt=\"Open In Colab\"/></a>"
      ]
    },
    {
      "cell_type": "code",
      "metadata": {
        "id": "i8TO3RmWkuXZ",
        "colab_type": "code",
        "outputId": "546a83b2-1479-4754-df5e-982070590fb6",
        "colab": {
          "base_uri": "https://localhost:8080/",
          "height": 34
        }
      },
      "source": [
        "#from google.colab import drive\n",
        "#drive.mount ('/content/drive')\n",
        "from google.colab import drive\n",
        "drive.mount('/gdrive')"
      ],
      "execution_count": 0,
      "outputs": [
        {
          "output_type": "stream",
          "text": [
            "Drive already mounted at /gdrive; to attempt to forcibly remount, call drive.mount(\"/gdrive\", force_remount=True).\n"
          ],
          "name": "stdout"
        }
      ]
    },
    {
      "cell_type": "code",
      "metadata": {
        "id": "lInWsGv1mWUl",
        "colab_type": "code",
        "outputId": "cd025236-db11-4eb0-ab91-269d138ef099",
        "colab": {
          "base_uri": "https://localhost:8080/",
          "height": 425
        }
      },
      "source": [
        "import pandas as pd\n",
        "import numpy as np\n",
        "import sys  \n",
        "\n",
        "spam_data = pd.read_csv('/gdrive/My Drive/datalagunew.csv')\n",
        "spam_data['label'] = np.where(spam_data['label']=='positif',1,0)\n",
        "print(spam_data.shape)\n",
        "spam_data.head(10)\n",
        "import matplotlib.pyplot as plt\n",
        "import seaborn as sns\n",
        "spam_data[\"label\"].value_counts().plot(kind = 'pie', explode = [0, 0.1], figsize = (6, 6), autopct = '%1.1f%%', shadow = True)\n",
        "plt.ylabel(\"Positif vs Negatif\")\n",
        "plt.legend([\"positif\", \"negatif\"])\n",
        "plt.show()\n",
        "from sklearn.model_selection import train_test_split\n",
        "#Split data into train and test sets\n",
        "X_train, X_test, y_train, y_test = train_test_split(spam_data['text'],spam_data['label'],random_state=0)\n",
        "from sklearn.feature_extraction.text import CountVectorizer\n",
        "from sklearn.naive_bayes import MultinomialNB\n",
        "from sklearn.metrics import roc_auc_score,accuracy_score\n",
        "#Train and evaluate the model\n",
        "vect = CountVectorizer().fit(X_train)\n",
        "X_train_vectorized = vect.transform(X_train)\n",
        "clfrNB = MultinomialNB(alpha = 0.1)\n",
        "clfrNB.fit(X_train_vectorized, y_train)\n",
        "preds = clfrNB.predict(vect.transform(X_test))\n",
        "score = roc_auc_score(y_test, preds)\n",
        "\n",
        "print(score)\n",
        "from sklearn.metrics import confusion_matrix\n",
        "print(confusion_matrix(y_test, preds))"
      ],
      "execution_count": 0,
      "outputs": [
        {
          "output_type": "stream",
          "text": [
            "(22, 2)\n"
          ],
          "name": "stdout"
        },
        {
          "output_type": "display_data",
          "data": {
            "image/png": "[encoded data removed]",
            "text/plain": [
              "<Figure size 432x432 with 1 Axes>"
            ]
          },
          "metadata": {
            "tags": []
          }
        },
        {
          "output_type": "stream",
          "text": [
            "0.75\n",
            "[[1 1]\n",
            " [0 4]]\n"
          ],
          "name": "stdout"
        }
      ]
    }
  ]
}